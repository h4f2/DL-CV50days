{
 "cells": [
  {
   "cell_type": "markdown",
   "metadata": {
    "id": "0t3och-F5ze5"
   },
   "source": [
    "# Day 5 作業\n",
    "\n",
    "## [作業目標]:\n",
    "使用 OpenCV 進行影像標注,使用 matplotlib 繪製多圖。\n",
    "\n",
    "## [作業重點]:\n",
    "1. 紅匡標注、對角線繪製、座標標注、多圖繪製\n",
    "2. 取得 圖片的 histogram\n",
    "\n",
    "\n",
    "\n",
    "\n",
    "## 解題步驟\n",
    "\n",
    "### 第一大題 (OpenCV 標註訓練)\n",
    "\n",
    "1. 將 Lena 的臉蛋用紅框框起來\n",
    "2. 畫出紅匡中的對角線\n",
    "3. 標注紅匡左上角的座標\n",
    "4. 利用 subplot 將三張圖片繪製出來\n",
    "\n",
    "### 第二大題 (繪製 Histogram)\n",
    "\n",
    "1. 獲得 3 個 channel (RGB) 的 histogram\n",
    "2. 利用 subplot 繪製出來"
   ]
  },
  {
   "cell_type": "code",
   "execution_count": 10,
   "metadata": {
    "id": "xBOgpV4W5zfD"
   },
   "outputs": [],
   "source": [
    "import cv2\n",
    "import numpy as np\n",
    "import matplotlib.pyplot as plt\n",
    "\n",
    "img = cv2.imread('./D00_lena.png')"
   ]
  },
  {
   "cell_type": "markdown",
   "metadata": {
    "id": "zdr0aqEN5zfE"
   },
   "source": [
    "### 第一大題 (OpenCV 標註訓練)\n",
    "\n",
    "1. 將 Lena 的臉蛋用紅框框起來\n",
    "2. 畫出紅匡中的對角線\n",
    "3. 標注紅匡左上角的座標\n",
    "4. 利用 subplot 將三張圖片繪製出來"
   ]
  },
  {
   "cell_type": "code",
   "execution_count": 12,
   "metadata": {
    "id": "kJ5m7m9d5zfF"
   },
   "outputs": [
    {
     "ename": "error",
     "evalue": "OpenCV(4.5.3) :-1: error: (-5:Bad argument) in function 'rectangle'\n> Overload resolution failed:\n>  - Layout of the output array img is incompatible with cv::Mat (step[ndims-1] != elemsize or step[1] != elemsize*nchannels)\n>  - Expected Ptr<cv::UMat> for argument 'img'\n>  - Layout of the output array img is incompatible with cv::Mat (step[ndims-1] != elemsize or step[1] != elemsize*nchannels)\n>  - Expected Ptr<cv::UMat> for argument 'img'\n",
     "output_type": "error",
     "traceback": [
      "\u001b[1;31m---------------------------------------------------------------------------\u001b[0m",
      "\u001b[1;31merror\u001b[0m                                     Traceback (most recent call last)",
      "\u001b[1;32m<ipython-input-12-a5081149c670>\u001b[0m in \u001b[0;36m<module>\u001b[1;34m\u001b[0m\n\u001b[0;32m      1\u001b[0m \u001b[1;31m# 獲得用紅匡標注的圖片\u001b[0m\u001b[1;33m\u001b[0m\u001b[1;33m\u001b[0m\u001b[1;33m\u001b[0m\u001b[0m\n\u001b[0;32m      2\u001b[0m \u001b[1;34m\"\"\" Your Code Here: \"\"\"\u001b[0m\u001b[1;33m\u001b[0m\u001b[1;33m\u001b[0m\u001b[0m\n\u001b[1;32m----> 3\u001b[1;33m \u001b[0mimg_boxed\u001b[0m \u001b[1;33m=\u001b[0m \u001b[0mcv2\u001b[0m\u001b[1;33m.\u001b[0m\u001b[0mrectangle\u001b[0m\u001b[1;33m(\u001b[0m\u001b[0mimg\u001b[0m\u001b[1;33m,\u001b[0m \u001b[1;33m(\u001b[0m\u001b[1;36m60\u001b[0m\u001b[1;33m,\u001b[0m \u001b[1;36m40\u001b[0m\u001b[1;33m)\u001b[0m\u001b[1;33m,\u001b[0m \u001b[1;33m(\u001b[0m\u001b[1;36m420\u001b[0m\u001b[1;33m,\u001b[0m \u001b[1;36m510\u001b[0m\u001b[1;33m)\u001b[0m\u001b[1;33m,\u001b[0m \u001b[1;33m(\u001b[0m\u001b[1;36m0\u001b[0m\u001b[1;33m,\u001b[0m \u001b[1;36m0\u001b[0m\u001b[1;33m,\u001b[0m \u001b[1;36m255\u001b[0m\u001b[1;33m)\u001b[0m\u001b[1;33m,\u001b[0m \u001b[1;36m3\u001b[0m\u001b[1;33m)\u001b[0m\u001b[1;33m\u001b[0m\u001b[1;33m\u001b[0m\u001b[0m\n\u001b[0m\u001b[0;32m      4\u001b[0m \u001b[1;31m# 獲得用對角線標注的圖片\u001b[0m\u001b[1;33m\u001b[0m\u001b[1;33m\u001b[0m\u001b[1;33m\u001b[0m\u001b[0m\n\u001b[0;32m      5\u001b[0m \u001b[1;34m\"\"\" Your Code Here: \"\"\"\u001b[0m\u001b[1;33m\u001b[0m\u001b[1;33m\u001b[0m\u001b[0m\n",
      "\u001b[1;31merror\u001b[0m: OpenCV(4.5.3) :-1: error: (-5:Bad argument) in function 'rectangle'\n> Overload resolution failed:\n>  - Layout of the output array img is incompatible with cv::Mat (step[ndims-1] != elemsize or step[1] != elemsize*nchannels)\n>  - Expected Ptr<cv::UMat> for argument 'img'\n>  - Layout of the output array img is incompatible with cv::Mat (step[ndims-1] != elemsize or step[1] != elemsize*nchannels)\n>  - Expected Ptr<cv::UMat> for argument 'img'\n"
     ]
    }
   ],
   "source": [
    "# 獲得用紅匡標注的圖片\n",
    "\"\"\" Your Code Here: \"\"\"\n",
    "img_boxed = cv2.rectangle(img, (60, 40), (420, 510), (0, 0, 255), 3)\n",
    "# 獲得用對角線標注的圖片\n",
    "\"\"\" Your Code Here: \"\"\"\n",
    "img_diagonal = img\n",
    "# 獲得具有座標標注的圖片\n",
    "\"\"\" Your Code Here: \"\"\"\n",
    "img_coord = img\n",
    "\n",
    "# 利用 subplot 將三張圖片繪製出來\n",
    "plt.figure(figsize = (15,5))\n",
    "for i,x in enumerate([img_boxed, img_diagonal, img_coord]):\n",
    "    plt.subplot(1, 3, i+1)\n",
    "    plt.imshow(x[..., [2, 1, 0]])\n",
    "    plt.axis('off')\n",
    "plt.show()"
   ]
  },
  {
   "cell_type": "markdown",
   "metadata": {
    "id": "vrNqVREv5zfF"
   },
   "source": [
    "### 第二大題 (繪製 Histogram)\n",
    "\n",
    "1. 獲得 3 個 channel (RGB) 的 histogram\n",
    "2. 利用 subplot 繪製出來"
   ]
  },
  {
   "cell_type": "code",
   "execution_count": null,
   "metadata": {
    "id": "hpA6kB3f5zfG"
   },
   "outputs": [],
   "source": [
    "# 繪製 Histogram\n",
    "\"\"\" Your Code Here: \"\"\""
   ]
  },
  {
   "cell_type": "code",
   "execution_count": null,
   "metadata": {
    "id": "JOqxpNpz5zfG"
   },
   "outputs": [],
   "source": []
  }
 ],
 "metadata": {
  "colab": {
   "collapsed_sections": [],
   "name": "Day005_draw_Hw.ipynb",
   "provenance": []
  },
  "kernelspec": {
   "display_name": "Python 3",
   "language": "python",
   "name": "python3"
  },
  "language_info": {
   "codemirror_mode": {
    "name": "ipython",
    "version": 3
   },
   "file_extension": ".py",
   "mimetype": "text/x-python",
   "name": "python",
   "nbconvert_exporter": "python",
   "pygments_lexer": "ipython3",
   "version": "3.8.3"
  }
 },
 "nbformat": 4,
 "nbformat_minor": 4
}
